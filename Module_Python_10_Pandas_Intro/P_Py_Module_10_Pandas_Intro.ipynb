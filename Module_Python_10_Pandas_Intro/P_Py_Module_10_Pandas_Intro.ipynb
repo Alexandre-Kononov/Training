{
 "cells": [
  {
   "cell_type": "markdown",
   "metadata": {},
   "source": [
    "# Practical task\n",
    "## Working with Melbourn Real Estate data set\n",
    "### List of columns:\n",
    "\n",
    "1. index — номер строки\n",
    "2. Suburb — наименование пригорода\n",
    "3. Address — адрес\n",
    "4. Rooms — количество комнат в помещении\n",
    "5. Type — тип здания (h — дом, коттедж, вилла, терраса; u — блочный, дуплексный дом; t — таунхаус)\n",
    "6. Price — цена помещения\n",
    "7. Method — метод продажи \n",
    "8. SellerG — риэлторская компания\n",
    "9. Date — дата продажи (в формате день/месяц/год)\n",
    "10. Distance — расстояния до объекта от центра Мельбурна \n",
    "11. Postcode — почтовый индекс\n",
    "12. Bedroom — количество спален\n",
    "13. Bathroom — количество ванных комнат\n",
    "14. Car — количество парковочных мест\n",
    "15. Landsize — площадь прилегающей территории\n",
    "16. BuildingArea — площадь здания\n",
    "17. YearBuilt — год постройки\n",
    "18. CouncilArea — региональное управление\n",
    "19. Lattitude — географическая широта\n",
    "20. Longitude — географическая долгота\n",
    "21. Regionname — наименование района Мельбурна\n",
    "22. Propertycount — количество объектов недвижимости в районе\n",
    "23. Coordinates — широта и долгота, объединённые в кортеж"
   ]
  },
  {
   "cell_type": "code",
   "execution_count": 2,
   "metadata": {},
   "outputs": [],
   "source": [
    "import pandas as pd"
   ]
  },
  {
   "cell_type": "markdown",
   "metadata": {},
   "source": [
    "Во сколько раз площадь участка, на котором находится здание с индексом 3521, больше площади участка, на котором находится здание с индексом 1690? Ответ округлите до целого числа."
   ]
  },
  {
   "cell_type": "code",
   "execution_count": 23,
   "metadata": {},
   "outputs": [
    {
     "name": "stdout",
     "output_type": "stream",
     "text": [
      "84.0 234.0 2.7857142857142856\n",
      "3\n"
     ]
    }
   ],
   "source": [
    "melb_data = pd.read_csv('data/melb_data.csv', sep=',')\n",
    "\n",
    "print(melb_data.iloc[1690,14], melb_data.iloc[3521,14], melb_data.iloc[3521,14] / melb_data.iloc[1690,14])\n",
    "\n",
    "print(\n",
    "     round(melb_data.iloc[3521,14] / melb_data.iloc[1690,14])\n",
    "    )"
   ]
  },
  {
   "cell_type": "markdown",
   "metadata": {},
   "source": [
    "Какой тип данных имеет столбец Coordinates?\n"
   ]
  },
  {
   "cell_type": "code",
   "execution_count": 24,
   "metadata": {},
   "outputs": [
    {
     "name": "stdout",
     "output_type": "stream",
     "text": [
      "<class 'pandas.core.frame.DataFrame'>\n",
      "RangeIndex: 13580 entries, 0 to 13579\n",
      "Data columns (total 23 columns):\n",
      " #   Column         Non-Null Count  Dtype  \n",
      "---  ------         --------------  -----  \n",
      " 0   index          13580 non-null  int64  \n",
      " 1   Suburb         13580 non-null  object \n",
      " 2   Address        13580 non-null  object \n",
      " 3   Rooms          13580 non-null  int64  \n",
      " 4   Type           13580 non-null  object \n",
      " 5   Price          13580 non-null  float64\n",
      " 6   Method         13580 non-null  object \n",
      " 7   SellerG        13580 non-null  object \n",
      " 8   Date           13580 non-null  object \n",
      " 9   Distance       13580 non-null  float64\n",
      " 10  Postcode       13580 non-null  int64  \n",
      " 11  Bedroom        13580 non-null  float64\n",
      " 12  Bathroom       13580 non-null  float64\n",
      " 13  Car            13580 non-null  float64\n",
      " 14  Landsize       13580 non-null  float64\n",
      " 15  BuildingArea   13580 non-null  float64\n",
      " 16  YearBuilt      13580 non-null  float64\n",
      " 17  CouncilArea    12211 non-null  object \n",
      " 18  Lattitude      13580 non-null  float64\n",
      " 19  Longtitude     13580 non-null  float64\n",
      " 20  Regionname     13580 non-null  object \n",
      " 21  Propertycount  13580 non-null  float64\n",
      " 22  Coordinates    13580 non-null  object \n",
      "dtypes: float64(11), int64(3), object(9)\n",
      "memory usage: 2.4+ MB\n"
     ]
    }
   ],
   "source": [
    "melb_data.info()"
   ]
  },
  {
   "cell_type": "markdown",
   "metadata": {},
   "source": [
    "Выберите верные утверждения в отношении таблицы melb_data:\n",
    "A Среднее и медианное значения цены дома в таблице отличаются более чем в 10 раз\n",
    "B Половина проданных зданий находится на расстоянии от 6.1 до 13 километров от центра города\n",
    "C Средняя площадь здания составляет более 180 квадратных метров\n",
    "D В данных есть как минимум одно жилое помещение, которое находится ровно в той точке, которая считается центром Мельбурна\n",
    "нет ответа"
   ]
  },
  {
   "cell_type": "code",
   "execution_count": 25,
   "metadata": {},
   "outputs": [
    {
     "name": "stdout",
     "output_type": "stream",
     "text": [
      "10.13777614138439 9.2\n",
      "False\n"
     ]
    }
   ],
   "source": [
    "db = melb_data.describe().loc[:, ['Price', 'Distance', 'BuildingArea', 'Distance']]\n",
    "\n",
    "#A:\n",
    "print(db.iloc[1,1], db.iloc[5,1])\n",
    "if (db.iloc[1,1] / db.iloc[5,1])>10 or (db.iloc[5,1] / db.iloc[1,1]) >10:\n",
    "    print (True)\n",
    "print(False)"
   ]
  },
  {
   "cell_type": "markdown",
   "metadata": {},
   "source": [
    "Выберите верные утверждения в отношении таблицы melb_data:\n",
    "A Наименьшее число объектов расположено в районе Southern Metropolitan\n",
    "B Мельбурн и его пригороды разделены как минимум на восемь районов\n",
    "C У некоторых различных адресов в таблице совпадают географические координаты\n",
    "D В пригороде Reservoir расположено наибольшее число проданных объектов - 359"
   ]
  },
  {
   "cell_type": "code",
   "execution_count": 41,
   "metadata": {},
   "outputs": [
    {
     "data": {
      "text/html": [
       "<div>\n",
       "<style scoped>\n",
       "    .dataframe tbody tr th:only-of-type {\n",
       "        vertical-align: middle;\n",
       "    }\n",
       "\n",
       "    .dataframe tbody tr th {\n",
       "        vertical-align: top;\n",
       "    }\n",
       "\n",
       "    .dataframe thead th {\n",
       "        text-align: right;\n",
       "    }\n",
       "</style>\n",
       "<table border=\"1\" class=\"dataframe\">\n",
       "  <thead>\n",
       "    <tr style=\"text-align: right;\">\n",
       "      <th></th>\n",
       "      <th>Suburb</th>\n",
       "      <th>Address</th>\n",
       "      <th>Type</th>\n",
       "      <th>Method</th>\n",
       "      <th>SellerG</th>\n",
       "      <th>Date</th>\n",
       "      <th>CouncilArea</th>\n",
       "      <th>Regionname</th>\n",
       "      <th>Coordinates</th>\n",
       "    </tr>\n",
       "  </thead>\n",
       "  <tbody>\n",
       "    <tr>\n",
       "      <th>count</th>\n",
       "      <td>13580</td>\n",
       "      <td>13580</td>\n",
       "      <td>13580</td>\n",
       "      <td>13580</td>\n",
       "      <td>13580</td>\n",
       "      <td>13580</td>\n",
       "      <td>12211</td>\n",
       "      <td>13580</td>\n",
       "      <td>13580</td>\n",
       "    </tr>\n",
       "    <tr>\n",
       "      <th>unique</th>\n",
       "      <td>314</td>\n",
       "      <td>13378</td>\n",
       "      <td>3</td>\n",
       "      <td>5</td>\n",
       "      <td>268</td>\n",
       "      <td>58</td>\n",
       "      <td>33</td>\n",
       "      <td>8</td>\n",
       "      <td>13097</td>\n",
       "    </tr>\n",
       "    <tr>\n",
       "      <th>top</th>\n",
       "      <td>Reservoir</td>\n",
       "      <td>36 Aberfeldie St</td>\n",
       "      <td>h</td>\n",
       "      <td>S</td>\n",
       "      <td>Nelson</td>\n",
       "      <td>27/05/2017</td>\n",
       "      <td>Moreland</td>\n",
       "      <td>Southern Metropolitan</td>\n",
       "      <td>-37.8361, 144.9966</td>\n",
       "    </tr>\n",
       "    <tr>\n",
       "      <th>freq</th>\n",
       "      <td>359</td>\n",
       "      <td>3</td>\n",
       "      <td>9449</td>\n",
       "      <td>9022</td>\n",
       "      <td>1565</td>\n",
       "      <td>473</td>\n",
       "      <td>1163</td>\n",
       "      <td>4695</td>\n",
       "      <td>12</td>\n",
       "    </tr>\n",
       "  </tbody>\n",
       "</table>\n",
       "</div>"
      ],
      "text/plain": [
       "           Suburb           Address   Type Method SellerG        Date  \\\n",
       "count       13580             13580  13580  13580   13580       13580   \n",
       "unique        314             13378      3      5     268          58   \n",
       "top     Reservoir  36 Aberfeldie St      h      S  Nelson  27/05/2017   \n",
       "freq          359                 3   9449   9022    1565         473   \n",
       "\n",
       "       CouncilArea             Regionname         Coordinates  \n",
       "count        12211                  13580               13580  \n",
       "unique          33                      8               13097  \n",
       "top       Moreland  Southern Metropolitan  -37.8361, 144.9966  \n",
       "freq          1163                   4695                  12  "
      ]
     },
     "execution_count": 41,
     "metadata": {},
     "output_type": "execute_result"
    }
   ],
   "source": [
    "melb_data.describe(include=['object'])\n"
   ]
  },
  {
   "cell_type": "markdown",
   "metadata": {},
   "source": [
    "Сколько процентов от общего количества домов составляют таунхаусы (тип объекта — t)?\n"
   ]
  },
  {
   "cell_type": "code",
   "execution_count": 70,
   "metadata": {},
   "outputs": [
    {
     "data": {
      "text/plain": [
       "h    0.695803\n",
       "u    0.222165\n",
       "t    0.082032\n",
       "Name: Type, dtype: float64"
      ]
     },
     "metadata": {},
     "output_type": "display_data"
    },
    {
     "data": {
      "text/plain": [
       "0.08"
      ]
     },
     "metadata": {},
     "output_type": "display_data"
    }
   ],
   "source": [
    "bd_temp = melb_data['Type'].value_counts(normalize=True)\n",
    "display(bd_temp)\n",
    "display(round(bd_temp.iloc[2],2))"
   ]
  },
  {
   "cell_type": "markdown",
   "metadata": {},
   "source": [
    "Чему равно максимальное количество домов на продажу в районе (Propertycount)?"
   ]
  },
  {
   "cell_type": "code",
   "execution_count": 71,
   "metadata": {},
   "outputs": [
    {
     "name": "stdout",
     "output_type": "stream",
     "text": [
      "21650.0\n"
     ]
    }
   ],
   "source": [
    "print(melb_data['Propertycount'].max())\n"
   ]
  },
  {
   "cell_type": "markdown",
   "metadata": {},
   "source": [
    "Чему равно стандартное отклонение (разброс) расстояния от центра города до объекта недвижимости?\n"
   ]
  },
  {
   "cell_type": "code",
   "execution_count": 73,
   "metadata": {},
   "outputs": [
    {
     "name": "stdout",
     "output_type": "stream",
     "text": [
      "6\n"
     ]
    }
   ],
   "source": [
    "print(round(melb_data['Distance'].std()))\n"
   ]
  },
  {
   "cell_type": "markdown",
   "metadata": {},
   "source": [
    "Чему равно отклонение (в процентах) медианного значения площади здания от его среднего значения?\n",
    "Ответ округлите до целого числа. Не указывайте знак %."
   ]
  },
  {
   "cell_type": "code",
   "execution_count": 76,
   "metadata": {},
   "outputs": [
    {
     "name": "stdout",
     "output_type": "stream",
     "text": [
      "10\n"
     ]
    }
   ],
   "source": [
    "BuildingArea_median = melb_data['BuildingArea'].median() \n",
    "BuildingArea_mean =  melb_data['BuildingArea'].mean()\n",
    "print(round((abs(BuildingArea_median - BuildingArea_mean)/BuildingArea_mean)*100))"
   ]
  },
  {
   "cell_type": "markdown",
   "metadata": {},
   "source": [
    "Задан ряд чисел [1, 2, 4, 2, 3, 2, 1, 5, 6]. Чему равна мода в данном ряду?\n"
   ]
  },
  {
   "cell_type": "code",
   "execution_count": 79,
   "metadata": {},
   "outputs": [
    {
     "name": "stdout",
     "output_type": "stream",
     "text": [
      "0    2\n",
      "dtype: int64\n"
     ]
    }
   ],
   "source": [
    "db = pd.Series([1, 2, 4, 2, 3, 2, 1, 5, 6])\n",
    "print(db.mode())"
   ]
  },
  {
   "cell_type": "markdown",
   "metadata": {},
   "source": [
    "Сколько спален чаще всего встречается в домах в Мельбурне?\n"
   ]
  },
  {
   "cell_type": "code",
   "execution_count": 89,
   "metadata": {},
   "outputs": [
    {
     "name": "stdout",
     "output_type": "stream",
     "text": [
      "0    3\n",
      "Name: Rooms, dtype: int64\n"
     ]
    }
   ],
   "source": [
    "print(melb_data['Rooms'].mode())"
   ]
  },
  {
   "cell_type": "markdown",
   "metadata": {},
   "source": [
    "У скольких объектов недвижимости из таблицы melb_data отсутствуют ванные комнаты?"
   ]
  },
  {
   "cell_type": "code",
   "execution_count": 91,
   "metadata": {},
   "outputs": [
    {
     "name": "stdout",
     "output_type": "stream",
     "text": [
      "       index           Suburb            Address  Rooms Type      Price  \\\n",
      "139      139       Alphington        6 Naroon Rd      3    h  1485000.0   \n",
      "281      281         Armadale    3/50 Denbigh Rd      2    u   546000.0   \n",
      "505      505        Balaclava     5/11 Albion St      2    u   497500.0   \n",
      "584      584           Balwyn     5 Shrimpton Ct      2    h  1010000.0   \n",
      "913      913   Bentleigh East    579 Warrigal Rd      3    h   700000.0   \n",
      "1063    1063         Brighton          17 New St      3    h  1900000.0   \n",
      "1070    1070         Brighton        1/5 Webb St      3    t  1067000.0   \n",
      "1593    1593       Camberwell   5 Nicholsdale Rd      4    h  1400000.0   \n",
      "2253    2253      Elsternwick    5/29 Nepean Hwy      2    u   410000.0   \n",
      "2777    2777        Glen Iris         25 Hope St      2    h   845000.0   \n",
      "2797    2797        Glen Iris        130 High St      4    h  1550000.0   \n",
      "2808    2808        Glen Iris    1/64 Edgar St N      2    u   545000.0   \n",
      "3390    3390          Ivanhoe  5/125 Locksley Rd      2    u   460000.0   \n",
      "3556    3556       Kensington      7/51 Epsom Rd      2    u   526000.0   \n",
      "3787    3787          Malvern       42 Cressy St      2    h   780000.0   \n",
      "4880    4880          Preston       19 Malpas St      4    h  1004000.0   \n",
      "5535    5535  South Melbourne          3 Park Pl      1    u   760500.0   \n",
      "5642    5642      South Yarra   82/390 Toorak Rd      3    u  1072000.0   \n",
      "5711    5711      South Yarra     2/28 Tivoli Pl      2    u   910000.0   \n",
      "6392    6392           Toorak   1/183 Kooyong Rd      2    u   857000.0   \n",
      "6406    6406           Toorak   6/183 Kooyong Rd      2    u   866000.0   \n",
      "6651    6651       Yarraville    1/53 Stephen St      2    u   410000.0   \n",
      "6671    6671       Yarraville     1a Kingston St      2    h   610000.0   \n",
      "6856    6856   East Melbourne     37/22 Agnes St      2    u   740000.0   \n",
      "6866    6866   East Melbourne    9/35 Powlett St      2    u   872000.0   \n",
      "6938    6938          Fawkner      1/66 Lorne St      3    u   470000.0   \n",
      "7494    7494     Balwyn North   215 Doncaster Rd      3    h  1670000.0   \n",
      "8010    8010          Ivanhoe     1/53 Norman St      3    t  1060000.0   \n",
      "8271    8271          Preston       86 Malpas St      3    h  1010000.0   \n",
      "9090    9090   Caulfield East     5/33 Grange Rd      2    u   350000.0   \n",
      "9917    9917         Hawthorn     1/30 Lisson Gr      2    h  1480000.0   \n",
      "10795  10795          Preston     24 Mitchell St      3    h  1150000.0   \n",
      "10895  10895        Balaclava    9/36 The Avenue      2    u   700000.0   \n",
      "11204  11204        St Albans       148 Power St      3    h   702000.0   \n",
      "\n",
      "      Method        SellerG        Date  Distance  ...  Car  Landsize  \\\n",
      "139       SP        McGrath  28/08/2016       6.4  ...  0.0     597.0   \n",
      "281       SP  hockingstuart  30/07/2016       6.3  ...  0.0       0.0   \n",
      "505       PI  hockingstuart  28/08/2016       6.6  ...  0.0       0.0   \n",
      "584       PI       Marshall  30/07/2016       9.7  ...  0.0    1611.0   \n",
      "913        S        Thomson  22/05/2016      13.9  ...  0.0     456.0   \n",
      "1063       S       Marshall   6/08/2016      11.2  ...  0.0       0.0   \n",
      "1070       S            Kay   7/05/2016      11.2  ...  1.0       0.0   \n",
      "1593      PI         Jellis  16/04/2016       7.8  ...  0.0     693.0   \n",
      "2253      VB           Gary  28/05/2016       8.5  ...  0.0       0.0   \n",
      "2777       S           Noel  10/09/2016       9.2  ...  0.0     207.0   \n",
      "2797      PI         Jellis  14/05/2016       9.2  ...  0.0     769.0   \n",
      "2808       S      Fletchers  16/07/2016       9.2  ...  0.0       0.0   \n",
      "3390      VB      Fletchers  16/04/2016       7.9  ...  0.0       0.0   \n",
      "3556       S         Nelson  22/08/2016       4.2  ...  0.0       0.0   \n",
      "3787      VB         Jellis  14/05/2016       7.4  ...  0.0       0.0   \n",
      "4880       S         Nelson   3/09/2016       8.8  ...  0.0     650.0   \n",
      "5535       S       Marshall   4/06/2016       2.1  ...  0.0     438.0   \n",
      "5642       S            Kay  13/08/2016       3.3  ...  0.0       0.0   \n",
      "5711       S       Williams  28/08/2016       3.3  ...  0.0       0.0   \n",
      "6392       S          Walsh  22/08/2016       4.6  ...  0.0       0.0   \n",
      "6406       S       Marshall  30/07/2016       4.6  ...  0.0       0.0   \n",
      "6651      PI  hockingstuart   6/08/2016       7.0  ...  0.0       0.0   \n",
      "6671      SP            Jas  15/10/2016       7.0  ...  0.0      94.0   \n",
      "6856      SP       Woodards   8/10/2016       1.5  ...  0.0       0.0   \n",
      "6866       S         Dingle  28/05/2016       1.5  ...  0.0       0.0   \n",
      "6938      SP           Brad  26/07/2016      12.4  ...  0.0     261.0   \n",
      "7494       S  hockingstuart  29/04/2017       9.2  ...  0.0     818.0   \n",
      "8010       S   Purplebricks  29/04/2017       7.9  ...  0.0     219.0   \n",
      "8271      SP        McGrath  20/05/2017       8.8  ...  0.0     533.0   \n",
      "9090      SP           Gary   3/06/2017       8.4  ...  0.0       0.0   \n",
      "9917       S       Marshall  24/06/2017       5.3  ...  0.0     241.0   \n",
      "10795     SP        McGrath   8/07/2017       8.4  ...  0.0     502.0   \n",
      "10895     SP       Marshall  12/08/2017       6.4  ...  0.0       0.0   \n",
      "11204     SP        Sweeney  12/08/2017      14.0  ...  0.0     600.0   \n",
      "\n",
      "       BuildingArea  YearBuilt   CouncilArea  Lattitude  Longtitude  \\\n",
      "139           126.0     1970.0       Darebin  -37.77810   145.02840   \n",
      "281           126.0     1970.0   Stonnington  -37.85680   145.01610   \n",
      "505           126.0     1970.0  Port Phillip  -37.87390   144.99290   \n",
      "584           126.0     1970.0    Boroondara  -37.80920   145.10160   \n",
      "913           126.0     1970.0     Glen Eira  -37.93140   145.08080   \n",
      "1063          126.0     1970.0       Bayside  -37.93010   144.99350   \n",
      "1070          126.0     1970.0       Bayside  -37.91190   144.98710   \n",
      "1593          126.0     1935.0    Boroondara  -37.83600   145.09140   \n",
      "2253          126.0     1970.0     Glen Eira  -37.88630   144.99960   \n",
      "2777          126.0     1970.0   Stonnington  -37.86300   145.05010   \n",
      "2797          126.0     1970.0    Boroondara  -37.86280   145.07340   \n",
      "2808          126.0     1970.0   Stonnington  -37.85000   145.04650   \n",
      "3390          126.0     1970.0       Banyule  -37.76620   145.05160   \n",
      "3556          126.0     1970.0     Melbourne  -37.79190   144.92530   \n",
      "3787          126.0     1970.0   Stonnington  -37.85020   145.04180   \n",
      "4880          126.0     1970.0       Darebin  -37.73460   145.02260   \n",
      "5535          126.0     1970.0  Port Phillip  -37.83530   144.96000   \n",
      "5642          126.0     1970.0   Stonnington  -37.84070   145.00430   \n",
      "5711          126.0     1970.0     Melbourne  -37.83570   144.98590   \n",
      "6392          126.0     1970.0   Stonnington  -37.84580   145.02210   \n",
      "6406          126.0     1970.0   Stonnington  -37.84580   145.02210   \n",
      "6651          126.0     1970.0   Maribyrnong  -37.81290   144.89520   \n",
      "6671          126.0     1970.0   Maribyrnong  -37.81500   144.88270   \n",
      "6856          126.0     1970.0     Melbourne  -37.81770   144.98010   \n",
      "6866          126.0     1970.0     Melbourne  -37.81540   144.98510   \n",
      "6938          126.0     1970.0      Moreland  -37.71580   144.97220   \n",
      "7494          126.0     1970.0    Boroondara  -37.79390   145.08660   \n",
      "8010          126.0     1980.0       Banyule  -37.76790   145.04660   \n",
      "8271          126.0     1970.0       Darebin  -37.73360   145.01680   \n",
      "9090          126.0     1970.0     Glen Eira  -37.88385   145.04785   \n",
      "9917          126.0     1970.0    Boroondara  -37.82679   145.03021   \n",
      "10795         126.0     1970.0       Darebin  -37.74936   144.98949   \n",
      "10895         126.0     1970.0  Port Phillip  -37.87149   144.99746   \n",
      "11204         126.0     1970.0      Brimbank  -37.72945   144.79592   \n",
      "\n",
      "                  Regionname  Propertycount           Coordinates  \n",
      "139    Northern Metropolitan         2211.0    -37.7781, 145.0284  \n",
      "281    Southern Metropolitan         4836.0    -37.8568, 145.0161  \n",
      "505    Southern Metropolitan         2952.0    -37.8739, 144.9929  \n",
      "584    Southern Metropolitan         5682.0    -37.8092, 145.1016  \n",
      "913    Southern Metropolitan        10969.0    -37.9314, 145.0808  \n",
      "1063   Southern Metropolitan        10579.0    -37.9301, 144.9935  \n",
      "1070   Southern Metropolitan        10579.0    -37.9119, 144.9871  \n",
      "1593   Southern Metropolitan         8920.0     -37.836, 145.0914  \n",
      "2253   Southern Metropolitan         4898.0    -37.8863, 144.9996  \n",
      "2777   Southern Metropolitan        10412.0     -37.863, 145.0501  \n",
      "2797   Southern Metropolitan        10412.0    -37.8628, 145.0734  \n",
      "2808   Southern Metropolitan        10412.0      -37.85, 145.0465  \n",
      "3390    Eastern Metropolitan         5549.0    -37.7662, 145.0516  \n",
      "3556   Northern Metropolitan         5263.0    -37.7919, 144.9253  \n",
      "3787   Southern Metropolitan         4675.0    -37.8502, 145.0418  \n",
      "4880   Northern Metropolitan        14577.0    -37.7346, 145.0226  \n",
      "5535   Southern Metropolitan         5943.0      -37.8353, 144.96  \n",
      "5642   Southern Metropolitan        14887.0    -37.8407, 145.0043  \n",
      "5711   Southern Metropolitan        14887.0    -37.8357, 144.9859  \n",
      "6392   Southern Metropolitan         7217.0    -37.8458, 145.0221  \n",
      "6406   Southern Metropolitan         7217.0    -37.8458, 145.0221  \n",
      "6651    Western Metropolitan         6543.0    -37.8129, 144.8952  \n",
      "6671    Western Metropolitan         6543.0     -37.815, 144.8827  \n",
      "6856   Northern Metropolitan         3040.0    -37.8177, 144.9801  \n",
      "6866   Northern Metropolitan         3040.0    -37.8154, 144.9851  \n",
      "6938   Northern Metropolitan         5070.0    -37.7158, 144.9722  \n",
      "7494   Southern Metropolitan         7809.0    -37.7939, 145.0866  \n",
      "8010    Eastern Metropolitan         5549.0    -37.7679, 145.0466  \n",
      "8271   Northern Metropolitan        14577.0    -37.7336, 145.0168  \n",
      "9090   Southern Metropolitan          608.0  -37.88385, 145.04785  \n",
      "9917   Southern Metropolitan        11308.0  -37.82679, 145.03021  \n",
      "10795  Northern Metropolitan        14577.0  -37.74936, 144.98949  \n",
      "10895  Southern Metropolitan         2952.0  -37.87149, 144.99746  \n",
      "11204   Western Metropolitan        14042.0  -37.72945, 144.79592  \n",
      "\n",
      "[34 rows x 23 columns]\n"
     ]
    }
   ],
   "source": [
    "print(melb_data[melb_data['Bathroom']==0])"
   ]
  },
  {
   "cell_type": "markdown",
   "metadata": {},
   "source": [
    "Сколько в таблице melb_data объектов недвижимости, которые были проданы риелторской компанией Nelson и стоимость которых составила больше 3 миллионов?"
   ]
  },
  {
   "cell_type": "code",
   "execution_count": 93,
   "metadata": {},
   "outputs": [
    {
     "data": {
      "text/html": [
       "<div>\n",
       "<style scoped>\n",
       "    .dataframe tbody tr th:only-of-type {\n",
       "        vertical-align: middle;\n",
       "    }\n",
       "\n",
       "    .dataframe tbody tr th {\n",
       "        vertical-align: top;\n",
       "    }\n",
       "\n",
       "    .dataframe thead th {\n",
       "        text-align: right;\n",
       "    }\n",
       "</style>\n",
       "<table border=\"1\" class=\"dataframe\">\n",
       "  <thead>\n",
       "    <tr style=\"text-align: right;\">\n",
       "      <th></th>\n",
       "      <th>index</th>\n",
       "      <th>Suburb</th>\n",
       "      <th>Address</th>\n",
       "      <th>Rooms</th>\n",
       "      <th>Type</th>\n",
       "      <th>Price</th>\n",
       "      <th>Method</th>\n",
       "      <th>SellerG</th>\n",
       "      <th>Date</th>\n",
       "      <th>Distance</th>\n",
       "      <th>...</th>\n",
       "      <th>Car</th>\n",
       "      <th>Landsize</th>\n",
       "      <th>BuildingArea</th>\n",
       "      <th>YearBuilt</th>\n",
       "      <th>CouncilArea</th>\n",
       "      <th>Lattitude</th>\n",
       "      <th>Longtitude</th>\n",
       "      <th>Regionname</th>\n",
       "      <th>Propertycount</th>\n",
       "      <th>Coordinates</th>\n",
       "    </tr>\n",
       "  </thead>\n",
       "  <tbody>\n",
       "    <tr>\n",
       "      <th>2553</th>\n",
       "      <td>2553</td>\n",
       "      <td>Fitzroy</td>\n",
       "      <td>17 Bell St</td>\n",
       "      <td>4</td>\n",
       "      <td>h</td>\n",
       "      <td>4011000.0</td>\n",
       "      <td>S</td>\n",
       "      <td>Nelson</td>\n",
       "      <td>27/11/2016</td>\n",
       "      <td>1.6</td>\n",
       "      <td>...</td>\n",
       "      <td>2.0</td>\n",
       "      <td>286.0</td>\n",
       "      <td>275.0</td>\n",
       "      <td>1890.0</td>\n",
       "      <td>Yarra</td>\n",
       "      <td>-37.79990</td>\n",
       "      <td>144.97550</td>\n",
       "      <td>Northern Metropolitan</td>\n",
       "      <td>5825.0</td>\n",
       "      <td>-37.7999, 144.9755</td>\n",
       "    </tr>\n",
       "    <tr>\n",
       "      <th>2579</th>\n",
       "      <td>2579</td>\n",
       "      <td>Fitzroy North</td>\n",
       "      <td>79 Delbridge St</td>\n",
       "      <td>4</td>\n",
       "      <td>h</td>\n",
       "      <td>3400000.0</td>\n",
       "      <td>S</td>\n",
       "      <td>Nelson</td>\n",
       "      <td>14/05/2016</td>\n",
       "      <td>3.5</td>\n",
       "      <td>...</td>\n",
       "      <td>1.0</td>\n",
       "      <td>445.0</td>\n",
       "      <td>175.0</td>\n",
       "      <td>1890.0</td>\n",
       "      <td>Yarra</td>\n",
       "      <td>-37.78600</td>\n",
       "      <td>144.98640</td>\n",
       "      <td>Northern Metropolitan</td>\n",
       "      <td>6244.0</td>\n",
       "      <td>-37.786, 144.9864</td>\n",
       "    </tr>\n",
       "    <tr>\n",
       "      <th>6734</th>\n",
       "      <td>6734</td>\n",
       "      <td>Aberfeldie</td>\n",
       "      <td>126 The Boulevard</td>\n",
       "      <td>4</td>\n",
       "      <td>h</td>\n",
       "      <td>3900000.0</td>\n",
       "      <td>S</td>\n",
       "      <td>Nelson</td>\n",
       "      <td>10/12/2016</td>\n",
       "      <td>9.1</td>\n",
       "      <td>...</td>\n",
       "      <td>4.0</td>\n",
       "      <td>670.0</td>\n",
       "      <td>375.0</td>\n",
       "      <td>2010.0</td>\n",
       "      <td>Moonee Valley</td>\n",
       "      <td>-37.76370</td>\n",
       "      <td>144.89310</td>\n",
       "      <td>Western Metropolitan</td>\n",
       "      <td>1543.0</td>\n",
       "      <td>-37.7637, 144.8931</td>\n",
       "    </tr>\n",
       "    <tr>\n",
       "      <th>7695</th>\n",
       "      <td>7695</td>\n",
       "      <td>Carlton North</td>\n",
       "      <td>235 Amess St</td>\n",
       "      <td>4</td>\n",
       "      <td>h</td>\n",
       "      <td>3450000.0</td>\n",
       "      <td>S</td>\n",
       "      <td>Nelson</td>\n",
       "      <td>13/05/2017</td>\n",
       "      <td>3.2</td>\n",
       "      <td>...</td>\n",
       "      <td>1.0</td>\n",
       "      <td>515.0</td>\n",
       "      <td>203.0</td>\n",
       "      <td>1905.0</td>\n",
       "      <td>Yarra</td>\n",
       "      <td>-37.78170</td>\n",
       "      <td>144.97420</td>\n",
       "      <td>Northern Metropolitan</td>\n",
       "      <td>3106.0</td>\n",
       "      <td>-37.7817, 144.9742</td>\n",
       "    </tr>\n",
       "    <tr>\n",
       "      <th>11023</th>\n",
       "      <td>11023</td>\n",
       "      <td>Fitzroy</td>\n",
       "      <td>122 Nicholson St</td>\n",
       "      <td>4</td>\n",
       "      <td>h</td>\n",
       "      <td>3200000.0</td>\n",
       "      <td>VB</td>\n",
       "      <td>Nelson</td>\n",
       "      <td>12/08/2017</td>\n",
       "      <td>2.1</td>\n",
       "      <td>...</td>\n",
       "      <td>0.0</td>\n",
       "      <td>225.0</td>\n",
       "      <td>126.0</td>\n",
       "      <td>1862.0</td>\n",
       "      <td>Yarra</td>\n",
       "      <td>-37.80209</td>\n",
       "      <td>144.97443</td>\n",
       "      <td>Northern Metropolitan</td>\n",
       "      <td>5825.0</td>\n",
       "      <td>-37.80209, 144.97443</td>\n",
       "    </tr>\n",
       "  </tbody>\n",
       "</table>\n",
       "<p>5 rows × 23 columns</p>\n",
       "</div>"
      ],
      "text/plain": [
       "       index         Suburb            Address  Rooms Type      Price Method  \\\n",
       "2553    2553        Fitzroy         17 Bell St      4    h  4011000.0      S   \n",
       "2579    2579  Fitzroy North    79 Delbridge St      4    h  3400000.0      S   \n",
       "6734    6734     Aberfeldie  126 The Boulevard      4    h  3900000.0      S   \n",
       "7695    7695  Carlton North       235 Amess St      4    h  3450000.0      S   \n",
       "11023  11023        Fitzroy   122 Nicholson St      4    h  3200000.0     VB   \n",
       "\n",
       "      SellerG        Date  Distance  ...  Car  Landsize  BuildingArea  \\\n",
       "2553   Nelson  27/11/2016       1.6  ...  2.0     286.0         275.0   \n",
       "2579   Nelson  14/05/2016       3.5  ...  1.0     445.0         175.0   \n",
       "6734   Nelson  10/12/2016       9.1  ...  4.0     670.0         375.0   \n",
       "7695   Nelson  13/05/2017       3.2  ...  1.0     515.0         203.0   \n",
       "11023  Nelson  12/08/2017       2.1  ...  0.0     225.0         126.0   \n",
       "\n",
       "       YearBuilt    CouncilArea  Lattitude  Longtitude             Regionname  \\\n",
       "2553      1890.0          Yarra  -37.79990   144.97550  Northern Metropolitan   \n",
       "2579      1890.0          Yarra  -37.78600   144.98640  Northern Metropolitan   \n",
       "6734      2010.0  Moonee Valley  -37.76370   144.89310   Western Metropolitan   \n",
       "7695      1905.0          Yarra  -37.78170   144.97420  Northern Metropolitan   \n",
       "11023     1862.0          Yarra  -37.80209   144.97443  Northern Metropolitan   \n",
       "\n",
       "       Propertycount           Coordinates  \n",
       "2553          5825.0    -37.7999, 144.9755  \n",
       "2579          6244.0     -37.786, 144.9864  \n",
       "6734          1543.0    -37.7637, 144.8931  \n",
       "7695          3106.0    -37.7817, 144.9742  \n",
       "11023         5825.0  -37.80209, 144.97443  \n",
       "\n",
       "[5 rows x 23 columns]"
      ]
     },
     "execution_count": 93,
     "metadata": {},
     "output_type": "execute_result"
    }
   ],
   "source": [
    "melb_data[(melb_data['SellerG']==\"Nelson\")&(melb_data['Price']>3000000)]"
   ]
  },
  {
   "cell_type": "markdown",
   "metadata": {},
   "source": [
    "Какова минимальная стоимость участка без здания (площадь здания равна 0) в таблице melb_data?\n"
   ]
  },
  {
   "cell_type": "code",
   "execution_count": 96,
   "metadata": {},
   "outputs": [
    {
     "data": {
      "text/plain": [
       "412500.0"
      ]
     },
     "execution_count": 96,
     "metadata": {},
     "output_type": "execute_result"
    }
   ],
   "source": [
    "melb_data[melb_data['BuildingArea']==0]['Price'].min()"
   ]
  },
  {
   "cell_type": "markdown",
   "metadata": {},
   "source": [
    "Какова средняя цена объектов недвижимости в таблице melb_data с ценой менее одного миллиона, \n",
    "в которых либо количество комнат больше пяти,\n",
    " либо здание моложе 2015 года?"
   ]
  },
  {
   "cell_type": "code",
   "execution_count": 102,
   "metadata": {},
   "outputs": [
    {
     "data": {
      "text/plain": [
       "769239"
      ]
     },
     "execution_count": 102,
     "metadata": {},
     "output_type": "execute_result"
    }
   ],
   "source": [
    "round(melb_data[(melb_data['Price']<1000000)&((melb_data['Rooms']>5)|(melb_data['YearBuilt']>2015))]['Price'].mean())"
   ]
  },
  {
   "cell_type": "markdown",
   "metadata": {},
   "source": [
    "В каком районе Мельбурна чаще всего продаются виллы и коттеджи (тип здания — h) с ценой меньше трёх миллионов?\n"
   ]
  },
  {
   "cell_type": "code",
   "execution_count": 105,
   "metadata": {},
   "outputs": [
    {
     "data": {
      "text/plain": [
       "Northern Metropolitan         2737\n",
       "Southern Metropolitan         2520\n",
       "Western Metropolitan          2286\n",
       "Eastern Metropolitan          1167\n",
       "South-Eastern Metropolitan     387\n",
       "Eastern Victoria                50\n",
       "Northern Victoria               41\n",
       "Western Victoria                32\n",
       "Name: Regionname, dtype: int64"
      ]
     },
     "execution_count": 105,
     "metadata": {},
     "output_type": "execute_result"
    }
   ],
   "source": [
    "melb_data[(melb_data['Type']=='h')&(melb_data['Price']<3000000)]['Regionname'].value_counts()"
   ]
  },
  {
   "cell_type": "code",
   "execution_count": 112,
   "metadata": {},
   "outputs": [
    {
     "data": {
      "text/html": [
       "<div>\n",
       "<style scoped>\n",
       "    .dataframe tbody tr th:only-of-type {\n",
       "        vertical-align: middle;\n",
       "    }\n",
       "\n",
       "    .dataframe tbody tr th {\n",
       "        vertical-align: top;\n",
       "    }\n",
       "\n",
       "    .dataframe thead th {\n",
       "        text-align: right;\n",
       "    }\n",
       "</style>\n",
       "<table border=\"1\" class=\"dataframe\">\n",
       "  <thead>\n",
       "    <tr style=\"text-align: right;\">\n",
       "      <th></th>\n",
       "      <th>index</th>\n",
       "      <th>Suburb</th>\n",
       "      <th>Address</th>\n",
       "      <th>Rooms</th>\n",
       "      <th>Type</th>\n",
       "      <th>Price</th>\n",
       "      <th>Method</th>\n",
       "      <th>SellerG</th>\n",
       "      <th>Date</th>\n",
       "      <th>Distance</th>\n",
       "      <th>...</th>\n",
       "      <th>Car</th>\n",
       "      <th>Landsize</th>\n",
       "      <th>BuildingArea</th>\n",
       "      <th>YearBuilt</th>\n",
       "      <th>CouncilArea</th>\n",
       "      <th>Lattitude</th>\n",
       "      <th>Longtitude</th>\n",
       "      <th>Regionname</th>\n",
       "      <th>Propertycount</th>\n",
       "      <th>Coordinates</th>\n",
       "    </tr>\n",
       "  </thead>\n",
       "  <tbody>\n",
       "    <tr>\n",
       "      <th>13245</th>\n",
       "      <td>13245</td>\n",
       "      <td>New Gisborne</td>\n",
       "      <td>71 Hamilton Rd</td>\n",
       "      <td>5</td>\n",
       "      <td>h</td>\n",
       "      <td>1355000.0</td>\n",
       "      <td>S</td>\n",
       "      <td>Raine</td>\n",
       "      <td>23/09/2017</td>\n",
       "      <td>48.1</td>\n",
       "      <td>...</td>\n",
       "      <td>5.0</td>\n",
       "      <td>44500.0</td>\n",
       "      <td>44515.0</td>\n",
       "      <td>1970.0</td>\n",
       "      <td>NaN</td>\n",
       "      <td>-37.45392</td>\n",
       "      <td>144.58864</td>\n",
       "      <td>Northern Victoria</td>\n",
       "      <td>849.0</td>\n",
       "      <td>-37.45392, 144.58864</td>\n",
       "    </tr>\n",
       "  </tbody>\n",
       "</table>\n",
       "<p>1 rows × 23 columns</p>\n",
       "</div>"
      ],
      "text/plain": [
       "       index        Suburb         Address  Rooms Type      Price Method  \\\n",
       "13245  13245  New Gisborne  71 Hamilton Rd      5    h  1355000.0      S   \n",
       "\n",
       "      SellerG        Date  Distance  ...  Car  Landsize  BuildingArea  \\\n",
       "13245   Raine  23/09/2017      48.1  ...  5.0   44500.0       44515.0   \n",
       "\n",
       "       YearBuilt  CouncilArea  Lattitude  Longtitude         Regionname  \\\n",
       "13245     1970.0          NaN  -37.45392   144.58864  Northern Victoria   \n",
       "\n",
       "       Propertycount           Coordinates  \n",
       "13245          849.0  -37.45392, 144.58864  \n",
       "\n",
       "[1 rows x 23 columns]"
      ]
     },
     "execution_count": 112,
     "metadata": {},
     "output_type": "execute_result"
    }
   ],
   "source": [
    "melb_data['BuildingArea'].max()\n",
    "melb_data[melb_data['BuildingArea']==44515.0]"
   ]
  },
  {
   "cell_type": "markdown",
   "metadata": {},
   "source": [
    "# AUTOTESTS:"
   ]
  },
  {
   "cell_type": "code",
   "execution_count": 3,
   "metadata": {},
   "outputs": [],
   "source": [
    "import pandas as pd\n",
    "st_data = pd.read_csv('data/students_performance.csv', sep=',')"
   ]
  },
  {
   "cell_type": "code",
   "execution_count": 32,
   "metadata": {},
   "outputs": [
    {
     "data": {
      "text/html": [
       "<div>\n",
       "<style scoped>\n",
       "    .dataframe tbody tr th:only-of-type {\n",
       "        vertical-align: middle;\n",
       "    }\n",
       "\n",
       "    .dataframe tbody tr th {\n",
       "        vertical-align: top;\n",
       "    }\n",
       "\n",
       "    .dataframe thead th {\n",
       "        text-align: right;\n",
       "    }\n",
       "</style>\n",
       "<table border=\"1\" class=\"dataframe\">\n",
       "  <thead>\n",
       "    <tr style=\"text-align: right;\">\n",
       "      <th></th>\n",
       "      <th>gender</th>\n",
       "      <th>race/ethnicity</th>\n",
       "      <th>parental level of education</th>\n",
       "      <th>lunch</th>\n",
       "      <th>test preparation course</th>\n",
       "      <th>math score</th>\n",
       "      <th>reading score</th>\n",
       "      <th>writing score</th>\n",
       "    </tr>\n",
       "  </thead>\n",
       "  <tbody>\n",
       "    <tr>\n",
       "      <th>995</th>\n",
       "      <td>female</td>\n",
       "      <td>group E</td>\n",
       "      <td>master's degree</td>\n",
       "      <td>standard</td>\n",
       "      <td>completed</td>\n",
       "      <td>88</td>\n",
       "      <td>99</td>\n",
       "      <td>95</td>\n",
       "    </tr>\n",
       "    <tr>\n",
       "      <th>996</th>\n",
       "      <td>male</td>\n",
       "      <td>group C</td>\n",
       "      <td>high school</td>\n",
       "      <td>free/reduced</td>\n",
       "      <td>none</td>\n",
       "      <td>62</td>\n",
       "      <td>55</td>\n",
       "      <td>55</td>\n",
       "    </tr>\n",
       "    <tr>\n",
       "      <th>997</th>\n",
       "      <td>female</td>\n",
       "      <td>group C</td>\n",
       "      <td>high school</td>\n",
       "      <td>free/reduced</td>\n",
       "      <td>completed</td>\n",
       "      <td>59</td>\n",
       "      <td>71</td>\n",
       "      <td>65</td>\n",
       "    </tr>\n",
       "    <tr>\n",
       "      <th>998</th>\n",
       "      <td>female</td>\n",
       "      <td>group D</td>\n",
       "      <td>some college</td>\n",
       "      <td>standard</td>\n",
       "      <td>completed</td>\n",
       "      <td>68</td>\n",
       "      <td>78</td>\n",
       "      <td>77</td>\n",
       "    </tr>\n",
       "    <tr>\n",
       "      <th>999</th>\n",
       "      <td>female</td>\n",
       "      <td>group D</td>\n",
       "      <td>some college</td>\n",
       "      <td>free/reduced</td>\n",
       "      <td>none</td>\n",
       "      <td>77</td>\n",
       "      <td>86</td>\n",
       "      <td>86</td>\n",
       "    </tr>\n",
       "  </tbody>\n",
       "</table>\n",
       "</div>"
      ],
      "text/plain": [
       "     gender race/ethnicity parental level of education         lunch  \\\n",
       "995  female        group E             master's degree      standard   \n",
       "996    male        group C                 high school  free/reduced   \n",
       "997  female        group C                 high school  free/reduced   \n",
       "998  female        group D                some college      standard   \n",
       "999  female        group D                some college  free/reduced   \n",
       "\n",
       "    test preparation course  math score  reading score  writing score  \n",
       "995               completed          88             99             95  \n",
       "996                    none          62             55             55  \n",
       "997               completed          59             71             65  \n",
       "998               completed          68             78             77  \n",
       "999                    none          77             86             86  "
      ]
     },
     "execution_count": 32,
     "metadata": {},
     "output_type": "execute_result"
    }
   ],
   "source": [
    "st_data.head()\n",
    "st_data.tail()"
   ]
  },
  {
   "cell_type": "markdown",
   "metadata": {},
   "source": [
    "Данные о скольких студентах содержатся в таблице? 1000"
   ]
  },
  {
   "cell_type": "code",
   "execution_count": 7,
   "metadata": {},
   "outputs": [
    {
     "name": "stdout",
     "output_type": "stream",
     "text": [
      "<class 'pandas.core.frame.DataFrame'>\n",
      "RangeIndex: 1000 entries, 0 to 999\n",
      "Data columns (total 8 columns):\n",
      " #   Column                       Non-Null Count  Dtype \n",
      "---  ------                       --------------  ----- \n",
      " 0   gender                       1000 non-null   object\n",
      " 1   race/ethnicity               1000 non-null   object\n",
      " 2   parental level of education  1000 non-null   object\n",
      " 3   lunch                        1000 non-null   object\n",
      " 4   test preparation course      1000 non-null   object\n",
      " 5   math score                   1000 non-null   int64 \n",
      " 6   reading score                1000 non-null   int64 \n",
      " 7   writing score                1000 non-null   int64 \n",
      "dtypes: int64(3), object(5)\n",
      "memory usage: 62.6+ KB\n"
     ]
    }
   ],
   "source": [
    "st_data.info()"
   ]
  },
  {
   "cell_type": "markdown",
   "metadata": {},
   "source": [
    "Каков балл по письму у студента под индексом 155?\n",
    "61"
   ]
  },
  {
   "cell_type": "code",
   "execution_count": 28,
   "metadata": {},
   "outputs": [
    {
     "name": "stdout",
     "output_type": "stream",
     "text": [
      "88\n"
     ]
    }
   ],
   "source": [
    "print(st_data.iloc[155,7])"
   ]
  },
  {
   "cell_type": "markdown",
   "metadata": {},
   "source": [
    "Сколько суммарно пропущенных значений в таблице?\n",
    "0\n"
   ]
  },
  {
   "cell_type": "code",
   "execution_count": null,
   "metadata": {},
   "outputs": [],
   "source": []
  },
  {
   "cell_type": "markdown",
   "metadata": {},
   "source": [
    "Сколько столбцов в таблице имеет тип данных object?\n",
    "5"
   ]
  },
  {
   "cell_type": "code",
   "execution_count": null,
   "metadata": {},
   "outputs": [],
   "source": [
    "5"
   ]
  },
  {
   "cell_type": "markdown",
   "metadata": {},
   "source": [
    "Какой объём памяти (в килобайтах) занимает таблица?\n",
    "Округлите ответ до целого числа.\n",
    "\n",
    "63"
   ]
  },
  {
   "cell_type": "code",
   "execution_count": null,
   "metadata": {},
   "outputs": [],
   "source": []
  },
  {
   "cell_type": "markdown",
   "metadata": {},
   "source": [
    "Каков у студентов средний балл по математике?\n",
    "Округлите ответ до целого числа.\n",
    "\n",
    "66"
   ]
  },
  {
   "cell_type": "code",
   "execution_count": 17,
   "metadata": {},
   "outputs": [
    {
     "data": {
      "text/plain": [
       "66"
      ]
     },
     "execution_count": 17,
     "metadata": {},
     "output_type": "execute_result"
    }
   ],
   "source": [
    "round(st_data.iloc[:,5].mean())"
   ]
  },
  {
   "cell_type": "markdown",
   "metadata": {},
   "source": [
    "Какая расовая группа является самой крупной в учебном заведении?\n",
    "В качестве ответа введите идентификатор группы (A, B, C, D, F). \n",
    "\n",
    "'group E'"
   ]
  },
  {
   "cell_type": "code",
   "execution_count": 29,
   "metadata": {},
   "outputs": [
    {
     "data": {
      "text/plain": [
       "count        1000\n",
       "unique          5\n",
       "top       group C\n",
       "freq          319\n",
       "Name: race/ethnicity, dtype: object"
      ]
     },
     "execution_count": 29,
     "metadata": {},
     "output_type": "execute_result"
    }
   ],
   "source": [
    "st_data.iloc[:,1].describe()"
   ]
  },
  {
   "cell_type": "markdown",
   "metadata": {},
   "source": [
    "Каков средний балл по чтению у студентов, которые посещали курсы подготовки к экзаменам?\n",
    "Округлите ответ до целого числа.\n",
    "\n",
    "74"
   ]
  },
  {
   "cell_type": "code",
   "execution_count": 27,
   "metadata": {},
   "outputs": [
    {
     "data": {
      "text/plain": [
       "74"
      ]
     },
     "execution_count": 27,
     "metadata": {},
     "output_type": "execute_result"
    }
   ],
   "source": [
    "round(st_data[st_data.iloc[:,4]=='completed']['reading score'].mean())"
   ]
  },
  {
   "cell_type": "markdown",
   "metadata": {},
   "source": [
    "Сколько студентов получили 0 баллов по математике?"
   ]
  },
  {
   "cell_type": "code",
   "execution_count": 31,
   "metadata": {},
   "outputs": [
    {
     "data": {
      "text/plain": [
       "1"
      ]
     },
     "execution_count": 31,
     "metadata": {},
     "output_type": "execute_result"
    }
   ],
   "source": [
    "st_data[st_data.iloc[:,5]==0].shape[0]"
   ]
  },
  {
   "cell_type": "code",
   "execution_count": 33,
   "metadata": {},
   "outputs": [
    {
     "data": {
      "text/html": [
       "<div>\n",
       "<style scoped>\n",
       "    .dataframe tbody tr th:only-of-type {\n",
       "        vertical-align: middle;\n",
       "    }\n",
       "\n",
       "    .dataframe tbody tr th {\n",
       "        vertical-align: top;\n",
       "    }\n",
       "\n",
       "    .dataframe thead th {\n",
       "        text-align: right;\n",
       "    }\n",
       "</style>\n",
       "<table border=\"1\" class=\"dataframe\">\n",
       "  <thead>\n",
       "    <tr style=\"text-align: right;\">\n",
       "      <th></th>\n",
       "      <th>gender</th>\n",
       "      <th>race/ethnicity</th>\n",
       "      <th>parental level of education</th>\n",
       "      <th>lunch</th>\n",
       "      <th>test preparation course</th>\n",
       "      <th>math score</th>\n",
       "      <th>reading score</th>\n",
       "      <th>writing score</th>\n",
       "    </tr>\n",
       "  </thead>\n",
       "  <tbody>\n",
       "    <tr>\n",
       "      <th>0</th>\n",
       "      <td>female</td>\n",
       "      <td>group B</td>\n",
       "      <td>bachelor's degree</td>\n",
       "      <td>standard</td>\n",
       "      <td>none</td>\n",
       "      <td>72</td>\n",
       "      <td>72</td>\n",
       "      <td>74</td>\n",
       "    </tr>\n",
       "    <tr>\n",
       "      <th>1</th>\n",
       "      <td>female</td>\n",
       "      <td>group C</td>\n",
       "      <td>some college</td>\n",
       "      <td>standard</td>\n",
       "      <td>completed</td>\n",
       "      <td>69</td>\n",
       "      <td>90</td>\n",
       "      <td>88</td>\n",
       "    </tr>\n",
       "    <tr>\n",
       "      <th>2</th>\n",
       "      <td>female</td>\n",
       "      <td>group B</td>\n",
       "      <td>master's degree</td>\n",
       "      <td>standard</td>\n",
       "      <td>none</td>\n",
       "      <td>90</td>\n",
       "      <td>95</td>\n",
       "      <td>93</td>\n",
       "    </tr>\n",
       "    <tr>\n",
       "      <th>3</th>\n",
       "      <td>male</td>\n",
       "      <td>group A</td>\n",
       "      <td>associate's degree</td>\n",
       "      <td>free/reduced</td>\n",
       "      <td>none</td>\n",
       "      <td>47</td>\n",
       "      <td>57</td>\n",
       "      <td>44</td>\n",
       "    </tr>\n",
       "    <tr>\n",
       "      <th>4</th>\n",
       "      <td>male</td>\n",
       "      <td>group C</td>\n",
       "      <td>some college</td>\n",
       "      <td>standard</td>\n",
       "      <td>none</td>\n",
       "      <td>76</td>\n",
       "      <td>78</td>\n",
       "      <td>75</td>\n",
       "    </tr>\n",
       "  </tbody>\n",
       "</table>\n",
       "</div>"
      ],
      "text/plain": [
       "   gender race/ethnicity parental level of education         lunch  \\\n",
       "0  female        group B           bachelor's degree      standard   \n",
       "1  female        group C                some college      standard   \n",
       "2  female        group B             master's degree      standard   \n",
       "3    male        group A          associate's degree  free/reduced   \n",
       "4    male        group C                some college      standard   \n",
       "\n",
       "  test preparation course  math score  reading score  writing score  \n",
       "0                    none          72             72             74  \n",
       "1               completed          69             90             88  \n",
       "2                    none          90             95             93  \n",
       "3                    none          47             57             44  \n",
       "4                    none          76             78             75  "
      ]
     },
     "execution_count": 33,
     "metadata": {},
     "output_type": "execute_result"
    }
   ],
   "source": [
    "st_data.head()\n"
   ]
  },
  {
   "cell_type": "markdown",
   "metadata": {},
   "source": [
    "Проверьте гипотезу: у студентов с оплачиваемым питанием средний балл по математике выше, чем у студентов с льготным питанием.\n",
    "В качестве ответа напишите наибольший средний балл по математике среди этих групп студентов.\n",
    "Округлите ответ до целого числа."
   ]
  },
  {
   "cell_type": "code",
   "execution_count": 37,
   "metadata": {},
   "outputs": [
    {
     "data": {
      "text/plain": [
       "70"
      ]
     },
     "metadata": {},
     "output_type": "display_data"
    },
    {
     "data": {
      "text/plain": [
       "59"
      ]
     },
     "metadata": {},
     "output_type": "display_data"
    }
   ],
   "source": [
    "display(round(st_data[st_data.iloc[:,3]=='standard']['math score'].mean()))\n",
    "display(round(st_data[st_data.iloc[:,3]=='free/reduced']['math score'].mean()))"
   ]
  },
  {
   "cell_type": "markdown",
   "metadata": {},
   "source": [
    "Каков процент студентов, родители которых имеют высшее образование уровня бакалавриата (bachelor's degree)?\n",
    "Округлите ответ до целого числа.\n",
    "Не указывайте знак %."
   ]
  },
  {
   "cell_type": "code",
   "execution_count": 38,
   "metadata": {},
   "outputs": [
    {
     "data": {
      "text/plain": [
       "some college          0.226\n",
       "associate's degree    0.222\n",
       "high school           0.196\n",
       "some high school      0.179\n",
       "bachelor's degree     0.118\n",
       "master's degree       0.059\n",
       "Name: parental level of education, dtype: float64"
      ]
     },
     "execution_count": 38,
     "metadata": {},
     "output_type": "execute_result"
    }
   ],
   "source": [
    "st_data.iloc[:,2].value_counts(normalize=True)"
   ]
  },
  {
   "cell_type": "markdown",
   "metadata": {},
   "source": [
    "Насколько медианный балл по письму у студентов в расовой группе А отличается от среднего балла по письму у студентов в расовой группе C?\n",
    "Округлите ответ до целого и запишите модуль этого числа."
   ]
  },
  {
   "cell_type": "code",
   "execution_count": 50,
   "metadata": {},
   "outputs": [
    {
     "name": "stdout",
     "output_type": "stream",
     "text": [
      "6\n"
     ]
    }
   ],
   "source": [
    "a_median = st_data[st_data.iloc[:,1]=='group A']['writing score'].median()\n",
    "c_mean = st_data[st_data.iloc[:,1]=='group C']['writing score'].mean()\n",
    "print(round(abs(a_median-c_mean)))\n"
   ]
  }
 ],
 "metadata": {
  "interpreter": {
   "hash": "28ba92bb9e1e4e4b081ce9281cde9c6fd119acc05846491677f7e764e2c187e0"
  },
  "kernelspec": {
   "display_name": "Python 3.9.10 64-bit",
   "language": "python",
   "name": "python3"
  },
  "language_info": {
   "codemirror_mode": {
    "name": "ipython",
    "version": 3
   },
   "file_extension": ".py",
   "mimetype": "text/x-python",
   "name": "python",
   "nbconvert_exporter": "python",
   "pygments_lexer": "ipython3",
   "version": "3.9.10"
  },
  "orig_nbformat": 4
 },
 "nbformat": 4,
 "nbformat_minor": 2
}
