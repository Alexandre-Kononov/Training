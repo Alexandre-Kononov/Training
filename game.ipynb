{
 "cells": [
  {
   "cell_type": "code",
   "execution_count": 2,
   "metadata": {},
   "outputs": [
    {
     "ename": "KeyboardInterrupt",
     "evalue": "",
     "output_type": "error",
     "traceback": [
      "\u001b[1;31m---------------------------------------------------------------------------\u001b[0m",
      "\u001b[1;31mKeyboardInterrupt\u001b[0m                         Traceback (most recent call last)",
      "\u001b[1;32mc:\\Users\\ALEXA\\Desktop\\DSPR\\IDE\\game.ipynb Cell 1'\u001b[0m in \u001b[0;36m<cell line: 3>\u001b[1;34m()\u001b[0m\n\u001b[0;32m      <a href='vscode-notebook-cell:/c%3A/Users/ALEXA/Desktop/DSPR/IDE/game.ipynb#ch0000001?line=0'>1</a>\u001b[0m \u001b[39mfrom\u001b[39;00m \u001b[39mgame_v2\u001b[39;00m \u001b[39mimport\u001b[39;00m score_game\n\u001b[0;32m      <a href='vscode-notebook-cell:/c%3A/Users/ALEXA/Desktop/DSPR/IDE/game.ipynb#ch0000001?line=1'>2</a>\u001b[0m \u001b[39mfrom\u001b[39;00m \u001b[39mgame_v2\u001b[39;00m \u001b[39mimport\u001b[39;00m random_predict\n\u001b[1;32m----> <a href='vscode-notebook-cell:/c%3A/Users/ALEXA/Desktop/DSPR/IDE/game.ipynb#ch0000001?line=2'>3</a>\u001b[0m score_game(random_predict)\n",
      "File \u001b[1;32mc:\\Users\\ALEXA\\Desktop\\DSPR\\IDE\\game_v2.py:38\u001b[0m, in \u001b[0;36mscore_game\u001b[1;34m(random_predict)\u001b[0m\n\u001b[0;32m     <a href='file:///c%3A/Users/ALEXA/Desktop/DSPR/IDE/game_v2.py?line=34'>35</a>\u001b[0m random_array \u001b[39m=\u001b[39m np\u001b[39m.\u001b[39mrandom\u001b[39m.\u001b[39mrandint(\u001b[39m1\u001b[39m, \u001b[39m101\u001b[39m, size\u001b[39m=\u001b[39m(\u001b[39m1000\u001b[39m)) \u001b[39m# загадали список чисел\u001b[39;00m\n\u001b[0;32m     <a href='file:///c%3A/Users/ALEXA/Desktop/DSPR/IDE/game_v2.py?line=36'>37</a>\u001b[0m \u001b[39mfor\u001b[39;00m number \u001b[39min\u001b[39;00m random_array:\n\u001b[1;32m---> <a href='file:///c%3A/Users/ALEXA/Desktop/DSPR/IDE/game_v2.py?line=37'>38</a>\u001b[0m     count_ls\u001b[39m.\u001b[39mappend(random_predict(number))\n\u001b[0;32m     <a href='file:///c%3A/Users/ALEXA/Desktop/DSPR/IDE/game_v2.py?line=39'>40</a>\u001b[0m score \u001b[39m=\u001b[39m \u001b[39mint\u001b[39m(np\u001b[39m.\u001b[39mmean(count_ls)) \u001b[39m# находим среднее количество попыток\u001b[39;00m\n\u001b[0;32m     <a href='file:///c%3A/Users/ALEXA/Desktop/DSPR/IDE/game_v2.py?line=41'>42</a>\u001b[0m \u001b[39mprint\u001b[39m(\u001b[39mf\u001b[39m\u001b[39m'\u001b[39m\u001b[39mВаш алгоритм угадывает число в среднем за: \u001b[39m\u001b[39m{\u001b[39;00mscore\u001b[39m}\u001b[39;00m\u001b[39m попыток\u001b[39m\u001b[39m'\u001b[39m)\n",
      "File \u001b[1;32mc:\\Users\\ALEXA\\Desktop\\DSPR\\IDE\\game_v2.py:19\u001b[0m, in \u001b[0;36mrandom_predict\u001b[1;34m(number)\u001b[0m\n\u001b[0;32m     <a href='file:///c%3A/Users/ALEXA/Desktop/DSPR/IDE/game_v2.py?line=16'>17</a>\u001b[0m     count \u001b[39m+\u001b[39m\u001b[39m=\u001b[39m \u001b[39m1\u001b[39m\n\u001b[0;32m     <a href='file:///c%3A/Users/ALEXA/Desktop/DSPR/IDE/game_v2.py?line=17'>18</a>\u001b[0m     predict_number \u001b[39m=\u001b[39m np\u001b[39m.\u001b[39mrandom\u001b[39m.\u001b[39mrandint(\u001b[39m2\u001b[39m, \u001b[39m500\u001b[39m)\n\u001b[1;32m---> <a href='file:///c%3A/Users/ALEXA/Desktop/DSPR/IDE/game_v2.py?line=18'>19</a>\u001b[0m     \u001b[39mif\u001b[39;00m number \u001b[39m==\u001b[39;49m predict_number:\n\u001b[0;32m     <a href='file:///c%3A/Users/ALEXA/Desktop/DSPR/IDE/game_v2.py?line=19'>20</a>\u001b[0m         \u001b[39mbreak\u001b[39;00m\n\u001b[0;32m     <a href='file:///c%3A/Users/ALEXA/Desktop/DSPR/IDE/game_v2.py?line=20'>21</a>\u001b[0m \u001b[39mreturn\u001b[39;00m(count)\n",
      "\u001b[1;31mKeyboardInterrupt\u001b[0m: "
     ]
    }
   ],
   "source": [
    "from game_v2 import score_game\n",
    "from game_v2 import random_predict\n",
    "score_game(random_predict) #вызов функции"
   ]
  }
 ],
 "metadata": {
  "interpreter": {
   "hash": "28ba92bb9e1e4e4b081ce9281cde9c6fd119acc05846491677f7e764e2c187e0"
  },
  "kernelspec": {
   "display_name": "Python 3.9.10 64-bit",
   "language": "python",
   "name": "python3"
  },
  "language_info": {
   "codemirror_mode": {
    "name": "ipython",
    "version": 3
   },
   "file_extension": ".py",
   "mimetype": "text/x-python",
   "name": "python",
   "nbconvert_exporter": "python",
   "pygments_lexer": "ipython3",
   "version": "3.9.10"
  },
  "orig_nbformat": 4
 },
 "nbformat": 4,
 "nbformat_minor": 2
}
